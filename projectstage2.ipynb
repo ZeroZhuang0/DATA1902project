{
  "nbformat": 4,
  "nbformat_minor": 0,
  "metadata": {
    "colab": {
      "name": "Untitled2.ipynb",
      "provenance": [],
      "include_colab_link": true
    },
    "kernelspec": {
      "name": "python3",
      "display_name": "Python 3"
    }
  },
  "cells": [
    {
      "cell_type": "markdown",
      "metadata": {
        "id": "view-in-github",
        "colab_type": "text"
      },
      "source": [
        "<a href=\"https://colab.research.google.com/github/ZeroZhuang0/DATA1902project/blob/master/projectstage2.ipynb\" target=\"_parent\"><img src=\"https://colab.research.google.com/assets/colab-badge.svg\" alt=\"Open In Colab\"/></a>"
      ]
    },
    {
      "cell_type": "code",
      "metadata": {
        "id": "FHESN2CvPLov",
        "colab_type": "code",
        "colab": {}
      },
      "source": [
        "from __future__ import print_function\n",
        "\n",
        "import math\n",
        "\n",
        "from IPython import display\n",
        "import numpy as np\n",
        "import pandas as pd\n",
        "from sklearn import metrics\n",
        "from sklearn import linear_model\n",
        "from keras import *\n",
        "from sklearn.model_selection import train_test_split\n",
        "import random\n",
        "from keras.models import Sequential\n",
        "from keras.layers import Dense, Conv2D, Flatten\n",
        "from keras.preprocessing import sequence\n",
        "from keras.models import Sequential\n",
        "from keras.layers import Dense, Dropout, Activation\n",
        "from keras.layers import Embedding\n",
        "from keras.layers import Conv1D, GlobalMaxPooling1D\n",
        "from keras.datasets import imdb\n",
        "from keras.utils import np_utils\n",
        "\n",
        "random.seed(10)\n",
        "tf.logging.set_verbosity(tf.logging.ERROR)\n",
        "pd.options.display.max_rows = 10\n",
        "pd.options.display.float_format = '{:.1f}'.format"
      ],
      "execution_count": 0,
      "outputs": []
    },
    {
      "cell_type": "code",
      "metadata": {
        "id": "JyX33wDZPOWv",
        "colab_type": "code",
        "colab": {}
      },
      "source": [
        "raw_data = pd.read_csv(\"https://raw.githubusercontent.com/ZeroZhuang0/DATA1902project/master/submitted/df_combined.csv\",sep=\",\")"
      ],
      "execution_count": 0,
      "outputs": []
    },
    {
      "cell_type": "code",
      "metadata": {
        "id": "jbEgnsF3WdU7",
        "colab_type": "code",
        "colab": {}
      },
      "source": [
        "data = raw_data.drop(raw_data.index[0])\n",
        "data = data.reindex()"
      ],
      "execution_count": 0,
      "outputs": []
    },
    {
      "cell_type": "code",
      "metadata": {
        "id": "nWfcu08KQV8K",
        "colab_type": "code",
        "colab": {}
      },
      "source": [
        "#denpendent\n",
        "bit_change = data[[\"bitcoin_close_change\"]].astype(float)\n",
        "\n",
        "#indenpedent\n",
        "data[\"gold_change\"] = data[\"gold_change\"].astype(float)\n",
        "data[\"total_crimes\"] = data[\"total_crimes\"].astype(float)\n",
        "data[\"total_volume_of_tweets\"] = data[\"total_volume_of_tweets\"].astype(float)\n",
        "data[\"count_negatives\"] = data[\"count_negatives\"].astype(float)\n",
        "data[\"count_positives\"] = data[\"count_positives\"].astype(float)\n",
        "data[\"financial_crimes\"] = data[\"financial_crimes\"].astype(float)"
      ],
      "execution_count": 0,
      "outputs": []
    },
    {
      "cell_type": "code",
      "metadata": {
        "id": "sbBf6v7YGXQZ",
        "colab_type": "code",
        "colab": {}
      },
      "source": [
        "x=data[[\"gold_change\",\"total_crimes\",\"total_volume_of_tweets\",\"count_negatives\",\"count_positives\",\"financial_crimes\"]].to_numpy()\n",
        "data[\"bitcoin_change_level\"]=data[\"bitcoin_close_change\"].astype(int)//3\n",
        "y=data[\"bitcoin_change_level\"].to_numpy()"
      ],
      "execution_count": 0,
      "outputs": []
    },
    {
      "cell_type": "code",
      "metadata": {
        "id": "M-w_2AITH9qu",
        "colab_type": "code",
        "colab": {}
      },
      "source": [
        "x_train, x_test, y_train, y_test = train_test_split(x, y, test_size=0.1, random_state=42)"
      ],
      "execution_count": 0,
      "outputs": []
    },
    {
      "cell_type": "code",
      "metadata": {
        "id": "M1fDljzMQMpa",
        "colab_type": "code",
        "colab": {}
      },
      "source": [
        "y_train = np_utils.to_categorical(y_train, 20)\n",
        "y_test = np_utils.to_categorical(y_test,20)"
      ],
      "execution_count": 0,
      "outputs": []
    },
    {
      "cell_type": "code",
      "metadata": {
        "id": "RPRwGt-9Q6l8",
        "colab_type": "code",
        "colab": {
          "base_uri": "https://localhost:8080/",
          "height": 629
        },
        "outputId": "48d990cc-57a8-46c1-c9ee-6b7292c64b9e"
      },
      "source": [
        "model = Sequential()\n",
        "model.add(Dense(1, input_shape=(6,)))\n",
        "model.add(Activation('relu'))\n",
        "model.add(Dense(1))\n",
        "model.add(Activation(\"relu\"))\n",
        "model.add(Dense(1))\n",
        "model.add(Activation(\"relu\"))\n",
        "model.add(Dense(1))\n",
        "model.add(Activation(\"relu\"))\n",
        "model.add(Dense(1))\n",
        "model.add(Activation(\"relu\"))\n",
        "model.add(Dense(1))\n",
        "model.add(Activation(\"relu\"))\n",
        "model.add(Dense(20))\n",
        "model.add(Activation(\"softmax\"))\n",
        "model.compile(loss=\"categorical_crossentropy\",metrics=[\"accuracy\"],optimizer=\"adam\")\n",
        "model.summary()"
      ],
      "execution_count": 204,
      "outputs": [
        {
          "output_type": "stream",
          "text": [
            "Model: \"sequential_24\"\n",
            "_________________________________________________________________\n",
            "Layer (type)                 Output Shape              Param #   \n",
            "=================================================================\n",
            "dense_139 (Dense)            (None, 1)                 7         \n",
            "_________________________________________________________________\n",
            "activation_138 (Activation)  (None, 1)                 0         \n",
            "_________________________________________________________________\n",
            "dense_140 (Dense)            (None, 1)                 2         \n",
            "_________________________________________________________________\n",
            "activation_139 (Activation)  (None, 1)                 0         \n",
            "_________________________________________________________________\n",
            "dense_141 (Dense)            (None, 1)                 2         \n",
            "_________________________________________________________________\n",
            "activation_140 (Activation)  (None, 1)                 0         \n",
            "_________________________________________________________________\n",
            "dense_142 (Dense)            (None, 1)                 2         \n",
            "_________________________________________________________________\n",
            "activation_141 (Activation)  (None, 1)                 0         \n",
            "_________________________________________________________________\n",
            "dense_143 (Dense)            (None, 1)                 2         \n",
            "_________________________________________________________________\n",
            "activation_142 (Activation)  (None, 1)                 0         \n",
            "_________________________________________________________________\n",
            "dense_144 (Dense)            (None, 1)                 2         \n",
            "_________________________________________________________________\n",
            "activation_143 (Activation)  (None, 1)                 0         \n",
            "_________________________________________________________________\n",
            "dense_145 (Dense)            (None, 20)                40        \n",
            "_________________________________________________________________\n",
            "activation_144 (Activation)  (None, 20)                0         \n",
            "=================================================================\n",
            "Total params: 57\n",
            "Trainable params: 57\n",
            "Non-trainable params: 0\n",
            "_________________________________________________________________\n"
          ],
          "name": "stdout"
        }
      ]
    },
    {
      "cell_type": "code",
      "metadata": {
        "id": "nKrRidFHTqDM",
        "colab_type": "code",
        "colab": {
          "base_uri": "https://localhost:8080/",
          "height": 595
        },
        "outputId": "b2d8185d-85fc-49a4-a72a-629e246b0e7c"
      },
      "source": [
        "model.fit(x_train,y_train,batch_size=536, epochs=16, validation_data=(x_test, y_test))\n"
      ],
      "execution_count": 205,
      "outputs": [
        {
          "output_type": "stream",
          "text": [
            "Train on 484 samples, validate on 54 samples\n",
            "Epoch 1/16\n",
            "484/484 [==============================] - 1s 3ms/step - loss: 2.9957 - acc: 0.4587 - val_loss: 2.9946 - val_acc: 0.4815\n",
            "Epoch 2/16\n",
            "484/484 [==============================] - 0s 16us/step - loss: 2.9948 - acc: 0.4587 - val_loss: 2.9932 - val_acc: 0.4815\n",
            "Epoch 3/16\n",
            "484/484 [==============================] - 0s 15us/step - loss: 2.9936 - acc: 0.4587 - val_loss: 2.9918 - val_acc: 0.4815\n",
            "Epoch 4/16\n",
            "484/484 [==============================] - 0s 11us/step - loss: 2.9925 - acc: 0.4587 - val_loss: 2.9903 - val_acc: 0.4815\n",
            "Epoch 5/16\n",
            "484/484 [==============================] - 0s 10us/step - loss: 2.9912 - acc: 0.4587 - val_loss: 2.9888 - val_acc: 0.4815\n",
            "Epoch 6/16\n",
            "484/484 [==============================] - 0s 10us/step - loss: 2.9900 - acc: 0.4587 - val_loss: 2.9873 - val_acc: 0.4815\n",
            "Epoch 7/16\n",
            "484/484 [==============================] - 0s 11us/step - loss: 2.9887 - acc: 0.4587 - val_loss: 2.9858 - val_acc: 0.4815\n",
            "Epoch 8/16\n",
            "484/484 [==============================] - 0s 13us/step - loss: 2.9875 - acc: 0.4587 - val_loss: 2.9843 - val_acc: 0.4815\n",
            "Epoch 9/16\n",
            "484/484 [==============================] - 0s 12us/step - loss: 2.9862 - acc: 0.4587 - val_loss: 2.9827 - val_acc: 0.4815\n",
            "Epoch 10/16\n",
            "484/484 [==============================] - 0s 8us/step - loss: 2.9849 - acc: 0.4587 - val_loss: 2.9812 - val_acc: 0.4815\n",
            "Epoch 11/16\n",
            "484/484 [==============================] - 0s 9us/step - loss: 2.9836 - acc: 0.4587 - val_loss: 2.9796 - val_acc: 0.4815\n",
            "Epoch 12/16\n",
            "484/484 [==============================] - 0s 13us/step - loss: 2.9823 - acc: 0.4587 - val_loss: 2.9781 - val_acc: 0.4815\n",
            "Epoch 13/16\n",
            "484/484 [==============================] - 0s 17us/step - loss: 2.9810 - acc: 0.4587 - val_loss: 2.9765 - val_acc: 0.4815\n",
            "Epoch 14/16\n",
            "484/484 [==============================] - 0s 14us/step - loss: 2.9797 - acc: 0.4587 - val_loss: 2.9750 - val_acc: 0.4815\n",
            "Epoch 15/16\n",
            "484/484 [==============================] - 0s 14us/step - loss: 2.9784 - acc: 0.4587 - val_loss: 2.9734 - val_acc: 0.4815\n",
            "Epoch 16/16\n",
            "484/484 [==============================] - 0s 11us/step - loss: 2.9771 - acc: 0.4587 - val_loss: 2.9718 - val_acc: 0.4815\n"
          ],
          "name": "stdout"
        },
        {
          "output_type": "execute_result",
          "data": {
            "text/plain": [
              "<keras.callbacks.History at 0x7f96cab5ceb8>"
            ]
          },
          "metadata": {
            "tags": []
          },
          "execution_count": 205
        }
      ]
    },
    {
      "cell_type": "code",
      "metadata": {
        "id": "sqcW_Tl-RwwJ",
        "colab_type": "code",
        "colab": {}
      },
      "source": [
        "regr = linear_model.LinearRegression().fit(x_train,y_train)"
      ],
      "execution_count": 0,
      "outputs": []
    }
  ]
}